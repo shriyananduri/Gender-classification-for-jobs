{
  "nbformat": 4,
  "nbformat_minor": 0,
  "metadata": {
    "colab": {
      "name": "preprocess.ipynb",
      "provenance": [],
      "collapsed_sections": []
    },
    "kernelspec": {
      "name": "python3",
      "display_name": "Python 3"
    },
    "language_info": {
      "name": "python"
    }
  },
  "cells": [
    {
      "cell_type": "code",
      "execution_count": null,
      "metadata": {
        "id": "k4mk1cojPr3v"
      },
      "outputs": [],
      "source": [
        "!rm * -rf"
      ]
    },
    {
      "cell_type": "code",
      "source": [
        "!unzip data.zip"
      ],
      "metadata": {
        "colab": {
          "base_uri": "https://localhost:8080/"
        },
        "id": "ImeXKThwdA1e",
        "outputId": "35a1d38a-e520-4abe-87b4-e99293032f4e"
      },
      "execution_count": null,
      "outputs": [
        {
          "output_type": "stream",
          "name": "stdout",
          "text": [
            "Archive:  data.zip\n",
            "   creating: data/\n",
            "   creating: data/ABSYZ/\n",
            "  inflating: data/ABSYZ/1.xlsx       \n",
            "  inflating: data/ABSYZ/2.xlsx       \n",
            "  inflating: data/ABSYZ/3.xlsx       \n",
            "  inflating: data/ABSYZ/4.xlsx       \n",
            "   creating: data/Affisis/\n",
            "  inflating: data/Affisis/1.xlsx     \n",
            "   creating: data/Codoid Innovations/\n",
            "  inflating: data/Codoid Innovations/1.xlsx  \n",
            "  inflating: data/Codoid Innovations/2.xlsx  \n",
            "  inflating: data/Codoid Innovations/3.xlsx  \n",
            "   creating: data/MorganStanley/\n",
            "  inflating: data/MorganStanley/1.xlsx  \n",
            "  inflating: data/MorganStanley/2.xlsx  \n",
            "  inflating: data/MorganStanley/3.xlsx  \n",
            "  inflating: data/MorganStanley/4.xlsx  \n",
            "  inflating: data/MorganStanley/5.xlsx  \n",
            "  inflating: data/MorganStanley/6.xlsx  \n",
            "   creating: data/RSA/\n",
            "  inflating: data/RSA/1.xlsx         \n",
            "  inflating: data/RSA/2.xlsx         \n",
            "  inflating: data/RSA/3.xlsx         \n",
            "  inflating: data/RSA/4.xlsx         \n",
            "   creating: data/Silicon labs/\n",
            "  inflating: data/Silicon labs/1.xlsx  \n",
            "  inflating: data/Silicon labs/2.xlsx  \n",
            "   creating: data/Silicon labs internship/\n",
            "  inflating: data/Silicon labs internship/1.xlsx  \n",
            "  inflating: data/Silicon labs internship/2.xlsx  \n",
            "  inflating: data/Silicon labs internship/3.xlsx  \n",
            "  inflating: data/Silicon labs internship/4.xlsx  \n",
            "   creating: data/WallMart/\n",
            "  inflating: data/WallMart/1.xlsx    \n",
            "  inflating: data/WallMart/2.xlsx    \n",
            "  inflating: data/WallMart/3.xlsx    \n",
            "  inflating: data/WallMart/4.xlsx    \n",
            "   creating: data/WallMartSummerInternship/\n",
            "  inflating: data/WallMartSummerInternship/1.xlsx  \n"
          ]
        }
      ]
    },
    {
      "cell_type": "code",
      "source": [
        "from glob import glob\n",
        "import numpy as np\n",
        "import pandas as pd\n",
        "import re\n",
        "import pickle"
      ],
      "metadata": {
        "id": "w6gNIFRqcpNQ"
      },
      "execution_count": 103,
      "outputs": []
    },
    {
      "cell_type": "code",
      "source": [
        "directories = sorted(glob(\"data/*\"))"
      ],
      "metadata": {
        "id": "_oQ13BHsc83h"
      },
      "execution_count": 104,
      "outputs": []
    },
    {
      "cell_type": "code",
      "source": [
        "for directory in directories:\n",
        "  subdirs = sorted(glob(directory+\"/*\"))\n",
        "  print(directory)\n",
        "  for subdir in subdirs:\n",
        "    print(\"\\t\"+subdir)"
      ],
      "metadata": {
        "colab": {
          "base_uri": "https://localhost:8080/"
        },
        "id": "n0QUzxSsdHw7",
        "outputId": "bb063841-aaf5-46cc-df53-3d689a798526"
      },
      "execution_count": 105,
      "outputs": [
        {
          "output_type": "stream",
          "name": "stdout",
          "text": [
            "data/ABSYZ\n",
            "\tdata/ABSYZ/1.xlsx\n",
            "\tdata/ABSYZ/2.xlsx\n",
            "\tdata/ABSYZ/3.xlsx\n",
            "\tdata/ABSYZ/4.xlsx\n",
            "data/Affisis\n",
            "\tdata/Affisis/1.xlsx\n",
            "data/Codoid Innovations\n",
            "\tdata/Codoid Innovations/1.xlsx\n",
            "\tdata/Codoid Innovations/2.xlsx\n",
            "\tdata/Codoid Innovations/3.xlsx\n",
            "data/MorganStanley\n",
            "\tdata/MorganStanley/1.xlsx\n",
            "\tdata/MorganStanley/2.xlsx\n",
            "\tdata/MorganStanley/3.xlsx\n",
            "\tdata/MorganStanley/4.xlsx\n",
            "\tdata/MorganStanley/5.xlsx\n",
            "\tdata/MorganStanley/6.xlsx\n",
            "data/RSA\n",
            "\tdata/RSA/1.xlsx\n",
            "\tdata/RSA/2.xlsx\n",
            "\tdata/RSA/3.xlsx\n",
            "\tdata/RSA/4.xlsx\n",
            "data/Silicon labs\n",
            "\tdata/Silicon labs/1.xlsx\n",
            "\tdata/Silicon labs/2.xlsx\n",
            "data/Silicon labs internship\n",
            "\tdata/Silicon labs internship/1.xlsx\n",
            "\tdata/Silicon labs internship/2.xlsx\n",
            "\tdata/Silicon labs internship/3.xlsx\n",
            "\tdata/Silicon labs internship/4.xlsx\n",
            "data/WallMart\n",
            "\tdata/WallMart/1.xlsx\n",
            "\tdata/WallMart/2.xlsx\n",
            "\tdata/WallMart/3.xlsx\n",
            "\tdata/WallMart/4.xlsx\n",
            "data/WallMartSummerInternship\n",
            "\tdata/WallMartSummerInternship/1.xlsx\n"
          ]
        }
      ]
    },
    {
      "cell_type": "code",
      "source": [
        "dataset = {}\n",
        "for directory in directories:\n",
        "  subdirs = sorted(glob(directory+\"/*\"))\n",
        "  company = str(directory.replace(\"data/\",\"\")).strip()\n",
        "  if company not in dataset:\n",
        "    dataset[company] = {}\n",
        "  for subdir in subdirs:\n",
        "    round = subdir.replace(directory+\"/\",\"\").replace(\".xlsx\",\"\").strip()\n",
        "    dataset[company][round] = pd.read_excel(subdir).values.flatten()\n",
        "    for i,val in enumerate(dataset[company][round]):\n",
        "      process = str(val).replace(\".\",' ').upper()\n",
        "      process = re.sub(' [A-Z]* ', ' ',process.strip())\n",
        "      final = \"\"\n",
        "      for st in process.split():\n",
        "        if(len(st)>1):\n",
        "          final += st+\" \"\n",
        "      while(len(final)>20):\n",
        "        final = \" \".join(final.split()[:-1])\n",
        "      final = final.strip()\n",
        "      final=(20-len(final))//2*'0'+final+(20-len(final))//2*'0'+len(final)%2*'0'\n",
        "      dataset[company][round][i]=final"
      ],
      "metadata": {
        "id": "gaDZ-7GLdpdq"
      },
      "execution_count": 122,
      "outputs": []
    },
    {
      "cell_type": "code",
      "source": [
        "dataset.keys()"
      ],
      "metadata": {
        "colab": {
          "base_uri": "https://localhost:8080/"
        },
        "id": "qxfRp3Qde4Yd",
        "outputId": "4007fba4-63b4-4f4e-bae6-9c7913f5d7f3"
      },
      "execution_count": 116,
      "outputs": [
        {
          "output_type": "execute_result",
          "data": {
            "text/plain": [
              "dict_keys(['ABSYZ', 'Affisis', 'Codoid Innovations', 'MorganStanley', 'RSA', 'Silicon labs', 'Silicon labs internship', 'WallMart', 'WallMartSummerInternship'])"
            ]
          },
          "metadata": {},
          "execution_count": 116
        }
      ]
    },
    {
      "cell_type": "code",
      "source": [
        "dataset['ABSYZ'].keys()"
      ],
      "metadata": {
        "colab": {
          "base_uri": "https://localhost:8080/"
        },
        "id": "X8OZSCf_fAQS",
        "outputId": "78e021ff-1c3c-4a55-cc80-ca254ea796c8"
      },
      "execution_count": 117,
      "outputs": [
        {
          "output_type": "execute_result",
          "data": {
            "text/plain": [
              "dict_keys(['1', '2', '3', '4'])"
            ]
          },
          "metadata": {},
          "execution_count": 117
        }
      ]
    },
    {
      "cell_type": "code",
      "source": [
        "dataset['ABSYZ']['3'].shape"
      ],
      "metadata": {
        "colab": {
          "base_uri": "https://localhost:8080/"
        },
        "id": "Xs2kL1BZfcpn",
        "outputId": "7e085182-4137-4dc5-c0ef-92166e1ccc39"
      },
      "execution_count": 118,
      "outputs": [
        {
          "output_type": "execute_result",
          "data": {
            "text/plain": [
              "(70,)"
            ]
          },
          "metadata": {},
          "execution_count": 118
        }
      ]
    },
    {
      "cell_type": "code",
      "source": [
        "dataset['ABSYZ']['4']"
      ],
      "metadata": {
        "colab": {
          "base_uri": "https://localhost:8080/"
        },
        "id": "K15da9zJgD8C",
        "outputId": "7e4258fd-8aa7-4012-a35e-644d80693a9c"
      },
      "execution_count": 123,
      "outputs": [
        {
          "output_type": "execute_result",
          "data": {
            "text/plain": [
              "array(['000000SRIDEVI0000000', '000000AHARSHA0000000',\n",
              "       '0000000DEEPAK0000000', '000BUVANESHVARAN0000',\n",
              "       '0000000GOKUL00000000', '0000SURYA REDDY00000',\n",
              "       '00SRI SAI RAVIPATI00', '00000SAMA REDDY00000',\n",
              "       '00000NIRMALRAJ000000', 'KOUKUNTLA SIDDARTHA0',\n",
              "       '000KATTA NARAYANA000', 'NAGIREDDYGARI REDDY0',\n",
              "       '0000000JAGAN00000000', '0000000HARISH0000000',\n",
              "       '0000000SANJAY0000000', '0000JEEVANANDHAM0000',\n",
              "       '0000SHUHEB SYED00000', '000000MUHAMMAD000000',\n",
              "       '00000SAIKALYAN000000', '000JAGADEESHWARAN000',\n",
              "       '00LINGI SAI REDDY000', '0MANDADAPU JAHNAVI00',\n",
              "       '0000000PAVAN00000000', '00SOWMYA GANAPATHI00',\n",
              "       '000KARRA JASWANTH000', '00GANGASANI KUMAR000',\n",
              "       '00BATCHU PULLARAO000', '000KONDAMANUGULA0000',\n",
              "       '000BODDU KRISHNA0000', '000SAMUDRALA BALA000',\n",
              "       '0000NEHA NAGULA00000', '0000000REDDY00000000',\n",
              "       '0000000MOHAN00000000', '000NAGISETTY BABU000',\n",
              "       '0GORIPARTHI PRASAD00', '00PULLURI NAVITEJA00',\n",
              "       '0000000KUMAR00000000', 'YANDAPALLI SATHWIKA0',\n",
              "       'GADDE RUTHVIJA DEVI0', '0000KOTHA KUMAR00000',\n",
              "       '0000SHAIK MUNNI00000', '0000GANGA AKHILA0000',\n",
              "       '0THOLUSURI PRAKASH00', '00GANGASANI KUMAR000',\n",
              "       '00MOVVA CHAITANYA000', '0000VIKASH KUMAR0000',\n",
              "       '0000NITHYA JOHN00000', '0ANJALI CHAKRABARTY0',\n",
              "       '0000MANISHA DAS00000', '0000SAERI DATTA00000',\n",
              "       '00000YUVASHREE000000', '000000VINDHYA0000000',\n",
              "       '000000KISHORE0000000', '000000CAROLINE000000',\n",
              "       '0000DHIYANESHWAR0000', '000KISHORE KUMAR0000',\n",
              "       '00000THILAKRAJ000000', '000000ARAVINDA000000',\n",
              "       '000PRASHANT YADAV000', '000MAHEK RATHORE0000',\n",
              "       '000SHIVALI SINGH0000', '0ABHISHEK TRIPATHI00',\n",
              "       '0NAVEENRAJ KRISHNAN0', '000000SHOBIKA0000000',\n",
              "       '00SRAVYA BHANDARU000', '00MOHAMED IBRAHIM000',\n",
              "       '000DEBABRATA TAH0000', '0000PALLAVI ZATE0000',\n",
              "       '0000000TARUN00000000', '000VIGNESH SEKAR0000'], dtype=object)"
            ]
          },
          "metadata": {},
          "execution_count": 123
        }
      ]
    },
    {
      "cell_type": "code",
      "source": [
        "with open(\"data.pkl\",'wb') as f:\n",
        "  pickle.dump(dataset,f)"
      ],
      "metadata": {
        "id": "uNxl26brmCfx"
      },
      "execution_count": 124,
      "outputs": []
    },
    {
      "cell_type": "code",
      "source": [
        "with open(\"data.pkl\",'rb') as f:\n",
        "  data = pickle.load(f)"
      ],
      "metadata": {
        "id": "Xa4l8PmMn4QI"
      },
      "execution_count": 125,
      "outputs": []
    },
    {
      "cell_type": "code",
      "source": [
        "data.keys()"
      ],
      "metadata": {
        "colab": {
          "base_uri": "https://localhost:8080/"
        },
        "id": "XVbkBrzZoBAs",
        "outputId": "8db39ad3-0bc1-470e-d2d8-28fd24a3e5b4"
      },
      "execution_count": 126,
      "outputs": [
        {
          "output_type": "execute_result",
          "data": {
            "text/plain": [
              "dict_keys(['ABSYZ', 'Affisis', 'Codoid Innovations', 'MorganStanley', 'RSA', 'Silicon labs', 'Silicon labs internship', 'WallMart', 'WallMartSummerInternship'])"
            ]
          },
          "metadata": {},
          "execution_count": 126
        }
      ]
    },
    {
      "cell_type": "code",
      "source": [
        "data['ABSYZ']['4']"
      ],
      "metadata": {
        "colab": {
          "base_uri": "https://localhost:8080/"
        },
        "id": "1zWaWGwnoDg7",
        "outputId": "5ef3b96c-04ea-4715-e223-c2b7417bbe9b"
      },
      "execution_count": 127,
      "outputs": [
        {
          "output_type": "execute_result",
          "data": {
            "text/plain": [
              "array(['000000SRIDEVI0000000', '000000AHARSHA0000000',\n",
              "       '0000000DEEPAK0000000', '000BUVANESHVARAN0000',\n",
              "       '0000000GOKUL00000000', '0000SURYA REDDY00000',\n",
              "       '00SRI SAI RAVIPATI00', '00000SAMA REDDY00000',\n",
              "       '00000NIRMALRAJ000000', 'KOUKUNTLA SIDDARTHA0',\n",
              "       '000KATTA NARAYANA000', 'NAGIREDDYGARI REDDY0',\n",
              "       '0000000JAGAN00000000', '0000000HARISH0000000',\n",
              "       '0000000SANJAY0000000', '0000JEEVANANDHAM0000',\n",
              "       '0000SHUHEB SYED00000', '000000MUHAMMAD000000',\n",
              "       '00000SAIKALYAN000000', '000JAGADEESHWARAN000',\n",
              "       '00LINGI SAI REDDY000', '0MANDADAPU JAHNAVI00',\n",
              "       '0000000PAVAN00000000', '00SOWMYA GANAPATHI00',\n",
              "       '000KARRA JASWANTH000', '00GANGASANI KUMAR000',\n",
              "       '00BATCHU PULLARAO000', '000KONDAMANUGULA0000',\n",
              "       '000BODDU KRISHNA0000', '000SAMUDRALA BALA000',\n",
              "       '0000NEHA NAGULA00000', '0000000REDDY00000000',\n",
              "       '0000000MOHAN00000000', '000NAGISETTY BABU000',\n",
              "       '0GORIPARTHI PRASAD00', '00PULLURI NAVITEJA00',\n",
              "       '0000000KUMAR00000000', 'YANDAPALLI SATHWIKA0',\n",
              "       'GADDE RUTHVIJA DEVI0', '0000KOTHA KUMAR00000',\n",
              "       '0000SHAIK MUNNI00000', '0000GANGA AKHILA0000',\n",
              "       '0THOLUSURI PRAKASH00', '00GANGASANI KUMAR000',\n",
              "       '00MOVVA CHAITANYA000', '0000VIKASH KUMAR0000',\n",
              "       '0000NITHYA JOHN00000', '0ANJALI CHAKRABARTY0',\n",
              "       '0000MANISHA DAS00000', '0000SAERI DATTA00000',\n",
              "       '00000YUVASHREE000000', '000000VINDHYA0000000',\n",
              "       '000000KISHORE0000000', '000000CAROLINE000000',\n",
              "       '0000DHIYANESHWAR0000', '000KISHORE KUMAR0000',\n",
              "       '00000THILAKRAJ000000', '000000ARAVINDA000000',\n",
              "       '000PRASHANT YADAV000', '000MAHEK RATHORE0000',\n",
              "       '000SHIVALI SINGH0000', '0ABHISHEK TRIPATHI00',\n",
              "       '0NAVEENRAJ KRISHNAN0', '000000SHOBIKA0000000',\n",
              "       '00SRAVYA BHANDARU000', '00MOHAMED IBRAHIM000',\n",
              "       '000DEBABRATA TAH0000', '0000PALLAVI ZATE0000',\n",
              "       '0000000TARUN00000000', '000VIGNESH SEKAR0000'], dtype=object)"
            ]
          },
          "metadata": {},
          "execution_count": 127
        }
      ]
    },
    {
      "cell_type": "code",
      "source": [
        ""
      ],
      "metadata": {
        "id": "yhl893BZw2C4"
      },
      "execution_count": null,
      "outputs": []
    }
  ]
}