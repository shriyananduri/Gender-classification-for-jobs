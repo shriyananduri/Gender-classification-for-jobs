{
  "nbformat": 4,
  "nbformat_minor": 0,
  "metadata": {
    "colab": {
      "name": "preprocess.ipynb",
      "provenance": [],
      "collapsed_sections": []
    },
    "kernelspec": {
      "name": "python3",
      "display_name": "Python 3"
    },
    "language_info": {
      "name": "python"
    }
  },
  "cells": [
    {
      "cell_type": "code",
      "execution_count": null,
      "metadata": {
        "id": "k4mk1cojPr3v"
      },
      "outputs": [],
      "source": [
        "!rm * -rf"
      ]
    },
    {
      "cell_type": "code",
      "source": [
        "!unzip data.zip"
      ],
      "metadata": {
        "colab": {
          "base_uri": "https://localhost:8080/"
        },
        "id": "ImeXKThwdA1e",
        "outputId": "35a1d38a-e520-4abe-87b4-e99293032f4e"
      },
      "execution_count": null,
      "outputs": [
        {
          "output_type": "stream",
          "name": "stdout",
          "text": [
            "Archive:  data.zip\n",
            "   creating: data/\n",
            "   creating: data/ABSYZ/\n",
            "  inflating: data/ABSYZ/1.xlsx       \n",
            "  inflating: data/ABSYZ/2.xlsx       \n",
            "  inflating: data/ABSYZ/3.xlsx       \n",
            "  inflating: data/ABSYZ/4.xlsx       \n",
            "   creating: data/Affisis/\n",
            "  inflating: data/Affisis/1.xlsx     \n",
            "   creating: data/Codoid Innovations/\n",
            "  inflating: data/Codoid Innovations/1.xlsx  \n",
            "  inflating: data/Codoid Innovations/2.xlsx  \n",
            "  inflating: data/Codoid Innovations/3.xlsx  \n",
            "   creating: data/MorganStanley/\n",
            "  inflating: data/MorganStanley/1.xlsx  \n",
            "  inflating: data/MorganStanley/2.xlsx  \n",
            "  inflating: data/MorganStanley/3.xlsx  \n",
            "  inflating: data/MorganStanley/4.xlsx  \n",
            "  inflating: data/MorganStanley/5.xlsx  \n",
            "  inflating: data/MorganStanley/6.xlsx  \n",
            "   creating: data/RSA/\n",
            "  inflating: data/RSA/1.xlsx         \n",
            "  inflating: data/RSA/2.xlsx         \n",
            "  inflating: data/RSA/3.xlsx         \n",
            "  inflating: data/RSA/4.xlsx         \n",
            "   creating: data/Silicon labs/\n",
            "  inflating: data/Silicon labs/1.xlsx  \n",
            "  inflating: data/Silicon labs/2.xlsx  \n",
            "   creating: data/Silicon labs internship/\n",
            "  inflating: data/Silicon labs internship/1.xlsx  \n",
            "  inflating: data/Silicon labs internship/2.xlsx  \n",
            "  inflating: data/Silicon labs internship/3.xlsx  \n",
            "  inflating: data/Silicon labs internship/4.xlsx  \n",
            "   creating: data/WallMart/\n",
            "  inflating: data/WallMart/1.xlsx    \n",
            "  inflating: data/WallMart/2.xlsx    \n",
            "  inflating: data/WallMart/3.xlsx    \n",
            "  inflating: data/WallMart/4.xlsx    \n",
            "   creating: data/WallMartSummerInternship/\n",
            "  inflating: data/WallMartSummerInternship/1.xlsx  \n"
          ]
        }
      ]
    },
    {
      "cell_type": "code",
      "source": [
        "from glob import glob\n",
        "import numpy as np\n",
        "import pandas as pd\n",
        "import re\n",
        "import pickle"
      ],
      "metadata": {
        "id": "w6gNIFRqcpNQ"
      },
      "execution_count": 88,
      "outputs": []
    },
    {
      "cell_type": "code",
      "source": [
        "directories = sorted(glob(\"data/*\"))"
      ],
      "metadata": {
        "id": "_oQ13BHsc83h"
      },
      "execution_count": null,
      "outputs": []
    },
    {
      "cell_type": "code",
      "source": [
        "for directory in directories:\n",
        "  subdirs = sorted(glob(directory+\"/*\"))\n",
        "  print(directory)\n",
        "  for subdir in subdirs:\n",
        "    print(\"\\t\"+subdir)"
      ],
      "metadata": {
        "colab": {
          "base_uri": "https://localhost:8080/"
        },
        "id": "n0QUzxSsdHw7",
        "outputId": "e762f34a-32a8-47fd-ec76-c68eeff88a7c"
      },
      "execution_count": null,
      "outputs": [
        {
          "output_type": "stream",
          "name": "stdout",
          "text": [
            "data/ABSYZ\n",
            "\tdata/ABSYZ/1.xlsx\n",
            "\tdata/ABSYZ/2.xlsx\n",
            "\tdata/ABSYZ/3.xlsx\n",
            "\tdata/ABSYZ/4.xlsx\n",
            "data/Affisis\n",
            "\tdata/Affisis/1.xlsx\n",
            "data/Codoid Innovations\n",
            "\tdata/Codoid Innovations/1.xlsx\n",
            "\tdata/Codoid Innovations/2.xlsx\n",
            "\tdata/Codoid Innovations/3.xlsx\n",
            "data/MorganStanley\n",
            "\tdata/MorganStanley/1.xlsx\n",
            "\tdata/MorganStanley/2.xlsx\n",
            "\tdata/MorganStanley/3.xlsx\n",
            "\tdata/MorganStanley/4.xlsx\n",
            "\tdata/MorganStanley/5.xlsx\n",
            "\tdata/MorganStanley/6.xlsx\n",
            "data/RSA\n",
            "\tdata/RSA/1.xlsx\n",
            "\tdata/RSA/2.xlsx\n",
            "\tdata/RSA/3.xlsx\n",
            "\tdata/RSA/4.xlsx\n",
            "data/Silicon labs\n",
            "\tdata/Silicon labs/1.xlsx\n",
            "\tdata/Silicon labs/2.xlsx\n",
            "data/Silicon labs internship\n",
            "\tdata/Silicon labs internship/1.xlsx\n",
            "\tdata/Silicon labs internship/2.xlsx\n",
            "\tdata/Silicon labs internship/3.xlsx\n",
            "\tdata/Silicon labs internship/4.xlsx\n",
            "data/WallMart\n",
            "\tdata/WallMart/1.xlsx\n",
            "\tdata/WallMart/2.xlsx\n",
            "\tdata/WallMart/3.xlsx\n",
            "\tdata/WallMart/4.xlsx\n",
            "data/WallMartSummerInternship\n",
            "\tdata/WallMartSummerInternship/1.xlsx\n"
          ]
        }
      ]
    },
    {
      "cell_type": "code",
      "source": [
        "dataset = {}\n",
        "for directory in directories:\n",
        "  subdirs = sorted(glob(directory+\"/*\"))\n",
        "  company = str(directory.replace(\"data/\",\"\")).strip()\n",
        "  if company not in dataset:\n",
        "    dataset[company] = {}\n",
        "  for subdir in subdirs:\n",
        "    round = subdir.replace(directory+\"/\",\"\").replace(\".xlsx\",\"\").strip()\n",
        "    dataset[company][round] = pd.read_excel(subdir).values.flatten()\n",
        "    for i,val in enumerate(dataset[company][round]):\n",
        "      process = str(val).replace(\".\",' ')\n",
        "      process = re.sub(' [A-Z]* ', ' ',process.strip())\n",
        "      final = \"\"\n",
        "      for st in process.split():\n",
        "        if(len(st)>1):\n",
        "          final += st+\" \"\n",
        "      dataset[company][round][i]=final.strip()"
      ],
      "metadata": {
        "id": "gaDZ-7GLdpdq"
      },
      "execution_count": null,
      "outputs": []
    },
    {
      "cell_type": "code",
      "source": [
        "dataset.keys()"
      ],
      "metadata": {
        "colab": {
          "base_uri": "https://localhost:8080/"
        },
        "id": "qxfRp3Qde4Yd",
        "outputId": "6af8fbbd-f508-4667-86cb-56c0f630930a"
      },
      "execution_count": null,
      "outputs": [
        {
          "output_type": "execute_result",
          "data": {
            "text/plain": [
              "dict_keys(['ABSYZ', 'Affisis', 'Codoid Innovations', 'MorganStanley', 'RSA', 'Silicon labs', 'Silicon labs internship', 'WallMart', 'WallMartSummerInternship'])"
            ]
          },
          "metadata": {},
          "execution_count": 74
        }
      ]
    },
    {
      "cell_type": "code",
      "source": [
        "dataset['ABSYZ'].keys()"
      ],
      "metadata": {
        "colab": {
          "base_uri": "https://localhost:8080/"
        },
        "id": "X8OZSCf_fAQS",
        "outputId": "172c7521-c49a-436a-ce27-a36074226a1d"
      },
      "execution_count": null,
      "outputs": [
        {
          "output_type": "execute_result",
          "data": {
            "text/plain": [
              "dict_keys(['1', '2', '3', '4'])"
            ]
          },
          "metadata": {},
          "execution_count": 75
        }
      ]
    },
    {
      "cell_type": "code",
      "source": [
        "dataset['ABSYZ']['3'].shape"
      ],
      "metadata": {
        "colab": {
          "base_uri": "https://localhost:8080/"
        },
        "id": "Xs2kL1BZfcpn",
        "outputId": "ecaf675f-4e25-4316-8b78-7eebf0e94fe0"
      },
      "execution_count": null,
      "outputs": [
        {
          "output_type": "execute_result",
          "data": {
            "text/plain": [
              "(70,)"
            ]
          },
          "metadata": {},
          "execution_count": 66
        }
      ]
    },
    {
      "cell_type": "code",
      "source": [
        "dataset['ABSYZ']['4']"
      ],
      "metadata": {
        "colab": {
          "base_uri": "https://localhost:8080/"
        },
        "id": "K15da9zJgD8C",
        "outputId": "e5896f01-2c02-466b-d0b1-49cae325f9f2"
      },
      "execution_count": null,
      "outputs": [
        {
          "output_type": "execute_result",
          "data": {
            "text/plain": [
              "array(['Sridevi', 'AHARSHA', 'DEEPAK', 'BUVANESHVARAN', 'GOKUL',\n",
              "       'SURYA REDDY', 'SRI SAI RAVIPATI', 'SAMA REDDY', 'Nirmalraj',\n",
              "       'Koukuntla Siddartha', 'KATTA NARAYANA',\n",
              "       'Nagireddygari Raghavendra reddy', 'JAGAN', 'Harish kumar',\n",
              "       'SANJAY', 'JEEVANANDHAM', 'SHUHEB SYED', 'MUHAMMAD',\n",
              "       'SAIKALYAN BANDEPALLI', 'JAGADEESHWARAN', 'LINGI SAI REDDY',\n",
              "       'MANDADAPU JAHNAVI', 'PAVAN', 'SOWMYA GANAPATHI', 'KARRA JASWANTH',\n",
              "       'GANGASANI KUMAR', 'BATCHU PULLARAO',\n",
              "       'KONDAMANUGULA SWAROOP Reddy', 'BODDU KRISHNA',\n",
              "       'SAMUDRALA BALA SUBBAIAH', 'NEHA NAGULA', 'REDDY', 'MOHAN',\n",
              "       'NAGISETTY Mahesh babu', 'GORIPARTHI PRASAD', 'Pulluri Naviteja',\n",
              "       'KUMAR', 'YANDAPALLI SATHWIKA', 'GADDE RUTHVIJA DEVI',\n",
              "       'KOTHA KUMAR', 'Shaik Munni', 'GANGA AKHILA', 'THOLUSURI PRAKASH',\n",
              "       'GANGASANI KUMAR', 'MOVVA CHAITANYA', 'VIKASH KUMAR',\n",
              "       'Nithya john', 'Anjali Chakrabarty', 'MANISHA DAS', 'SAERI DATTA',\n",
              "       'YUVASHREE', 'Vindhya', 'KISHORE', 'Caroline Cynthia',\n",
              "       'Dhiyaneshwar', 'Kishore kumar', 'THILAKRAJ', 'Aravinda',\n",
              "       'Prashant Yadav', 'Mahek Rathore', 'Shivali Singh',\n",
              "       'Abhishek Mani Tripathi', 'Naveenraj Krishnan', 'SHOBIKA',\n",
              "       'SRAVYA BHANDARU', 'Mohamed Ibrahim', 'Debabrata Tah',\n",
              "       'Pallavi Zate', 'Deepan Tarun', 'VIGNESH SEKAR'], dtype=object)"
            ]
          },
          "metadata": {},
          "execution_count": 87
        }
      ]
    },
    {
      "cell_type": "code",
      "source": [
        "with open(\"data.pkl\",'wb') as f:\n",
        "  pickle.dump(dataset,f)"
      ],
      "metadata": {
        "id": "uNxl26brmCfx"
      },
      "execution_count": 94,
      "outputs": []
    },
    {
      "cell_type": "code",
      "source": [
        "with open(\"data.pkl\",'rb') as f:\n",
        "  data = pickle.load(f)"
      ],
      "metadata": {
        "id": "Xa4l8PmMn4QI"
      },
      "execution_count": 95,
      "outputs": []
    },
    {
      "cell_type": "code",
      "source": [
        "data.keys()"
      ],
      "metadata": {
        "colab": {
          "base_uri": "https://localhost:8080/"
        },
        "id": "XVbkBrzZoBAs",
        "outputId": "74945685-9c72-4939-a82d-28e1070cb8ca"
      },
      "execution_count": 96,
      "outputs": [
        {
          "output_type": "execute_result",
          "data": {
            "text/plain": [
              "dict_keys(['ABSYZ', 'Affisis', 'Codoid Innovations', 'MorganStanley', 'RSA', 'Silicon labs', 'Silicon labs internship', 'WallMart', 'WallMartSummerInternship'])"
            ]
          },
          "metadata": {},
          "execution_count": 96
        }
      ]
    },
    {
      "cell_type": "code",
      "source": [
        "data['ABSYZ']['4']"
      ],
      "metadata": {
        "colab": {
          "base_uri": "https://localhost:8080/"
        },
        "id": "1zWaWGwnoDg7",
        "outputId": "ff534f67-931f-4177-f7fb-e686e46d2f96"
      },
      "execution_count": 97,
      "outputs": [
        {
          "output_type": "execute_result",
          "data": {
            "text/plain": [
              "array(['Sridevi', 'AHARSHA', 'DEEPAK', 'BUVANESHVARAN', 'GOKUL',\n",
              "       'SURYA REDDY', 'SRI SAI RAVIPATI', 'SAMA REDDY', 'Nirmalraj',\n",
              "       'Koukuntla Siddartha', 'KATTA NARAYANA',\n",
              "       'Nagireddygari Raghavendra reddy', 'JAGAN', 'Harish kumar',\n",
              "       'SANJAY', 'JEEVANANDHAM', 'SHUHEB SYED', 'MUHAMMAD',\n",
              "       'SAIKALYAN BANDEPALLI', 'JAGADEESHWARAN', 'LINGI SAI REDDY',\n",
              "       'MANDADAPU JAHNAVI', 'PAVAN', 'SOWMYA GANAPATHI', 'KARRA JASWANTH',\n",
              "       'GANGASANI KUMAR', 'BATCHU PULLARAO',\n",
              "       'KONDAMANUGULA SWAROOP Reddy', 'BODDU KRISHNA',\n",
              "       'SAMUDRALA BALA SUBBAIAH', 'NEHA NAGULA', 'REDDY', 'MOHAN',\n",
              "       'NAGISETTY Mahesh babu', 'GORIPARTHI PRASAD', 'Pulluri Naviteja',\n",
              "       'KUMAR', 'YANDAPALLI SATHWIKA', 'GADDE RUTHVIJA DEVI',\n",
              "       'KOTHA KUMAR', 'Shaik Munni', 'GANGA AKHILA', 'THOLUSURI PRAKASH',\n",
              "       'GANGASANI KUMAR', 'MOVVA CHAITANYA', 'VIKASH KUMAR',\n",
              "       'Nithya john', 'Anjali Chakrabarty', 'MANISHA DAS', 'SAERI DATTA',\n",
              "       'YUVASHREE', 'Vindhya', 'KISHORE', 'Caroline Cynthia',\n",
              "       'Dhiyaneshwar', 'Kishore kumar', 'THILAKRAJ', 'Aravinda',\n",
              "       'Prashant Yadav', 'Mahek Rathore', 'Shivali Singh',\n",
              "       'Abhishek Mani Tripathi', 'Naveenraj Krishnan', 'SHOBIKA',\n",
              "       'SRAVYA BHANDARU', 'Mohamed Ibrahim', 'Debabrata Tah',\n",
              "       'Pallavi Zate', 'Deepan Tarun', 'VIGNESH SEKAR'], dtype=object)"
            ]
          },
          "metadata": {},
          "execution_count": 97
        }
      ]
    }
  ]
}