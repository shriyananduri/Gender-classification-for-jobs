{
  "cells": [
    {
      "cell_type": "markdown",
      "source": [
        "## Classifier"
      ],
      "metadata": {
        "id": "B9wkTavSeXW4"
      }
    },
    {
      "cell_type": "code",
      "execution_count": null,
      "metadata": {
        "id": "jc392ucm1rhT"
      },
      "outputs": [],
      "source": [
        "import tensorflow as tf\n",
        "\n",
        "import pandas as pd\n",
        "from keras.layers import Input, Dense,LSTM\n",
        "from keras.models import Model\n",
        "from keras.callbacks import ModelCheckpoint\n",
        "import numpy as np\n",
        "import math\n",
        "\n",
        "\n",
        "from sklearn.preprocessing import LabelEncoder,OneHotEncoder\n",
        "from sklearn.model_selection import train_test_split"
      ]
    },
    {
      "cell_type": "code",
      "execution_count": null,
      "metadata": {
        "id": "iWCXkHboHDKx"
      },
      "outputs": [],
      "source": [
        "!rm * -rf"
      ]
    },
    {
      "cell_type": "code",
      "execution_count": null,
      "metadata": {
        "colab": {
          "base_uri": "https://localhost:8080/"
        },
        "id": "5lM577LxGt6p",
        "outputId": "df094904-5a5f-4747-cc74-2d0dde098d3c"
      },
      "outputs": [
        {
          "output_type": "stream",
          "name": "stdout",
          "text": [
            "--2022-07-26 12:31:40--  https://beaterblank.github.io/RESUME/Names_dataset.csv\n",
            "Resolving beaterblank.github.io (beaterblank.github.io)... 185.199.108.153, 185.199.109.153, 185.199.110.153, ...\n",
            "Connecting to beaterblank.github.io (beaterblank.github.io)|185.199.108.153|:443... connected.\n",
            "HTTP request sent, awaiting response... 200 OK\n",
            "Length: 1394933 (1.3M) [text/csv]\n",
            "Saving to: ‘Names_dataset.csv’\n",
            "\n",
            "\rNames_dataset.csv     0%[                    ]       0  --.-KB/s               \rNames_dataset.csv   100%[===================>]   1.33M  --.-KB/s    in 0.05s   \n",
            "\n",
            "2022-07-26 12:31:40 (24.2 MB/s) - ‘Names_dataset.csv’ saved [1394933/1394933]\n",
            "\n"
          ]
        }
      ],
      "source": [
        "!wget https://beaterblank.github.io/RESUME/Names_dataset.csv"
      ]
    },
    {
      "cell_type": "code",
      "execution_count": null,
      "metadata": {
        "id": "W8O3sbGj1sg9"
      },
      "outputs": [],
      "source": [
        "name = pd.read_csv(\"Names_dataset.csv\")"
      ]
    },
    {
      "cell_type": "code",
      "execution_count": null,
      "metadata": {
        "colab": {
          "base_uri": "https://localhost:8080/"
        },
        "id": "k-1FcWyuGc-u",
        "outputId": "adb6a34a-a7f2-446c-9ba4-fd559418c5dd"
      },
      "outputs": [
        {
          "output_type": "execute_result",
          "data": {
            "text/plain": [
              "Index(['name', 'gender'], dtype='object')"
            ]
          },
          "metadata": {},
          "execution_count": 5
        }
      ],
      "source": [
        "name.columns"
      ]
    },
    {
      "cell_type": "code",
      "execution_count": null,
      "metadata": {
        "id": "z4mt6GyXGc-v"
      },
      "outputs": [],
      "source": [
        "fe = name[name.gender=='f'][:len(name[name.gender=='m'])].values\n",
        "ma = name[name.gender=='m'][:len(name[name.gender=='m'])].values"
      ]
    },
    {
      "cell_type": "code",
      "execution_count": null,
      "metadata": {
        "colab": {
          "base_uri": "https://localhost:8080/"
        },
        "id": "jmQnB9DSGc-v",
        "outputId": "02fea84b-a32a-43cc-e4ac-d81686029103"
      },
      "outputs": [
        {
          "output_type": "execute_result",
          "data": {
            "text/plain": [
              "(98520, 2)"
            ]
          },
          "metadata": {},
          "execution_count": 7
        }
      ],
      "source": [
        "name=np.vstack((fe,ma))\n",
        "name.shape"
      ]
    },
    {
      "cell_type": "code",
      "execution_count": null,
      "metadata": {
        "colab": {
          "base_uri": "https://localhost:8080/",
          "height": 36
        },
        "id": "0h29R54uRaf4",
        "outputId": "efc18d93-87a8-479c-da2a-6a5ffa6ee11b"
      },
      "outputs": [
        {
          "output_type": "execute_result",
          "data": {
            "text/plain": [
              "'cheriah'"
            ],
            "application/vnd.google.colaboratory.intrinsic+json": {
              "type": "string"
            }
          },
          "metadata": {},
          "execution_count": 8
        }
      ],
      "source": [
        "name[900,0]"
      ]
    },
    {
      "cell_type": "code",
      "execution_count": null,
      "metadata": {
        "id": "LjMmdEQG18f1"
      },
      "outputs": [],
      "source": [
        "a=[]\n",
        "for i in range(len(name)):\n",
        "    try:\n",
        "        if(math.isnan(name[i,0])):\n",
        "            a.append(i)\n",
        "    except:\n",
        "        pass\n",
        "name=np.delete(name,np.array(a),axis=0)\n",
        "\n",
        "import re\n",
        "for i in range(len(name)):\n",
        "    name[i][0]=name[i][0].upper()\n",
        "    name[i][0]=re.sub('[^ A-Z]+',' ',name[i][0])\n",
        "\n",
        "a=[]\n",
        "for i in range(len(name)):\n",
        "    try:\n",
        "        if(len(name[i,0])>=20):\n",
        "            a.append(i)\n",
        "    except:\n",
        "        pass\n",
        "name=np.delete(name,np.array(a),axis=0)"
      ]
    },
    {
      "cell_type": "code",
      "execution_count": null,
      "metadata": {
        "colab": {
          "base_uri": "https://localhost:8080/"
        },
        "id": "d9e0Q_tl5VmX",
        "outputId": "bab898c4-0d3e-407c-88b4-f45936a0b1dc"
      },
      "outputs": [
        {
          "output_type": "execute_result",
          "data": {
            "text/plain": [
              "(97952, 2)"
            ]
          },
          "metadata": {},
          "execution_count": 10
        }
      ],
      "source": [
        "name.shape"
      ]
    },
    {
      "cell_type": "code",
      "source": [
        "name"
      ],
      "metadata": {
        "colab": {
          "base_uri": "https://localhost:8080/"
        },
        "id": "k6i4goHTdqeH",
        "outputId": "555755ed-756c-4bbb-ed03-0336a4a82375"
      },
      "execution_count": null,
      "outputs": [
        {
          "output_type": "execute_result",
          "data": {
            "text/plain": [
              "array([['ALFIYA', 'f'],\n",
              "       ['HENRYKA', 'f'],\n",
              "       ['PREETI', 'f'],\n",
              "       ...,\n",
              "       ['DALSHAWN', 'm'],\n",
              "       ['HILLARY', 'm'],\n",
              "       ['ASHISH', 'm']], dtype=object)"
            ]
          },
          "metadata": {},
          "execution_count": 11
        }
      ]
    },
    {
      "cell_type": "code",
      "execution_count": null,
      "metadata": {
        "id": "ydB1AWMR1-1S"
      },
      "outputs": [],
      "source": [
        "# Padding to make constant length\n",
        "a=[]\n",
        "for i in range(len(name)):\n",
        "    try:\n",
        "        if(len(name[i][0])<20):\n",
        "            name[i][0]=(20-len(name[i][0]))//2*'0'+name[i][0]+(20-len(name[i][0]))//2*'0'+len(name[i][0])%2*'0'\n",
        "    except:\n",
        "        pass"
      ]
    },
    {
      "cell_type": "code",
      "execution_count": null,
      "metadata": {
        "colab": {
          "base_uri": "https://localhost:8080/"
        },
        "id": "Aj5PSkM15auG",
        "outputId": "85adae8c-2f7e-4bf4-b6cc-cd2f1f670096"
      },
      "outputs": [
        {
          "output_type": "execute_result",
          "data": {
            "text/plain": [
              "(97952, 2)"
            ]
          },
          "metadata": {},
          "execution_count": 13
        }
      ],
      "source": [
        "name.shape"
      ]
    },
    {
      "cell_type": "code",
      "source": [
        "name"
      ],
      "metadata": {
        "colab": {
          "base_uri": "https://localhost:8080/"
        },
        "id": "-PXAOPRxdxiy",
        "outputId": "d848cbfc-d274-4907-fe19-9ee8efec55f3"
      },
      "execution_count": null,
      "outputs": [
        {
          "output_type": "execute_result",
          "data": {
            "text/plain": [
              "array([['0000000ALFIYA0000000', 'f'],\n",
              "       ['000000HENRYKA0000000', 'f'],\n",
              "       ['0000000PREETI0000000', 'f'],\n",
              "       ...,\n",
              "       ['000000DALSHAWN000000', 'm'],\n",
              "       ['000000HILLARY0000000', 'm'],\n",
              "       ['0000000ASHISH0000000', 'm']], dtype=object)"
            ]
          },
          "metadata": {},
          "execution_count": 14
        }
      ]
    },
    {
      "cell_type": "code",
      "execution_count": null,
      "metadata": {
        "colab": {
          "base_uri": "https://localhost:8080/"
        },
        "id": "t7C2c1ld2BBQ",
        "outputId": "a79be962-d475-41ff-949e-fcaa77237ab6"
      },
      "outputs": [
        {
          "output_type": "execute_result",
          "data": {
            "text/plain": [
              "array(['f', 'f', 'f', ..., 'm', 'm', 'm'], dtype=object)"
            ]
          },
          "metadata": {},
          "execution_count": 15
        }
      ],
      "source": [
        "x=name[:,0]\n",
        "y=name[:,1]\n",
        "y"
      ]
    },
    {
      "cell_type": "code",
      "execution_count": null,
      "metadata": {
        "id": "-bWU39noGc-x"
      },
      "outputs": [],
      "source": [
        "jn=\"\".join(x)\n",
        "\n",
        "lbl=LabelEncoder()\n",
        "one=OneHotEncoder()\n",
        "\n",
        "y=lbl.fit_transform(y)\n",
        "y=one.fit_transform(y.reshape(len(y),1)).toarray()"
      ]
    },
    {
      "cell_type": "code",
      "execution_count": null,
      "metadata": {
        "colab": {
          "base_uri": "https://localhost:8080/"
        },
        "id": "nO20gHkn5irz",
        "outputId": "17d8f80f-da6e-424f-e152-23e05cdbf98a"
      },
      "outputs": [
        {
          "output_type": "execute_result",
          "data": {
            "text/plain": [
              "array(['0000000ALFIYA0000000', '000000HENRYKA0000000',\n",
              "       '0000000PREETI0000000', ..., '000000DALSHAWN000000',\n",
              "       '000000HILLARY0000000', '0000000ASHISH0000000'], dtype=object)"
            ]
          },
          "metadata": {},
          "execution_count": 17
        }
      ],
      "source": [
        "x"
      ]
    },
    {
      "cell_type": "code",
      "execution_count": null,
      "metadata": {
        "colab": {
          "base_uri": "https://localhost:8080/"
        },
        "id": "rNWasE1m5eHL",
        "outputId": "e546f7ec-9e9e-4bbc-ef17-da296eeb0f01"
      },
      "outputs": [
        {
          "output_type": "execute_result",
          "data": {
            "text/plain": [
              "array([[1., 0.],\n",
              "       [1., 0.],\n",
              "       [1., 0.],\n",
              "       ...,\n",
              "       [0., 1.],\n",
              "       [0., 1.],\n",
              "       [0., 1.]])"
            ]
          },
          "metadata": {},
          "execution_count": 18
        }
      ],
      "source": [
        "y"
      ]
    },
    {
      "cell_type": "markdown",
      "metadata": {
        "id": "R6LJQcTg6UiZ"
      },
      "source": [
        "chars will have all the set of charecters in the whole names db in our case it should ideally be A-Z so we can change that to that and also we are encoding it using the array location mapping is the encoder"
      ]
    },
    {
      "cell_type": "code",
      "execution_count": null,
      "metadata": {
        "id": "nXUa5WfT2O5C"
      },
      "outputs": [],
      "source": [
        "chars = sorted(list(set(jn)))\n",
        "mapping = dict((c, i) for i, c in enumerate(chars))\n",
        "\n",
        "names = []\n",
        "for line in x:\n",
        "    encoded_seq = [mapping[char] for char in line]\n",
        "    names.append(encoded_seq)"
      ]
    },
    {
      "cell_type": "code",
      "execution_count": null,
      "metadata": {
        "colab": {
          "base_uri": "https://localhost:8080/"
        },
        "id": "rhaB4B9x6OJd",
        "outputId": "d27cf583-aab1-4fa2-b071-b7797ed3e2eb"
      },
      "outputs": [
        {
          "output_type": "execute_result",
          "data": {
            "text/plain": [
              "20"
            ]
          },
          "metadata": {},
          "execution_count": 20
        }
      ],
      "source": [
        "len(names[0])"
      ]
    },
    {
      "cell_type": "code",
      "execution_count": null,
      "metadata": {
        "id": "VIOZCHNA2Tr3"
      },
      "outputs": [],
      "source": [
        "x=np.array(names).reshape(len(names),20,1)\n",
        "\n",
        "x_train,x_test,y_train,y_test=train_test_split(x,y,test_size=0.3, random_state=42)"
      ]
    },
    {
      "cell_type": "code",
      "execution_count": null,
      "metadata": {
        "id": "b5oYlfqG1pnP"
      },
      "outputs": [],
      "source": [
        "#Model\n",
        "inp=Input(shape=(20,1))\n",
        "lstm=LSTM(30,return_sequences=True)(inp)\n",
        "lstm=LSTM(70,return_sequences=True)(lstm)\n",
        "lstm=LSTM(30)(lstm)\n",
        "out=Dense(2,activation='softmax')(lstm)"
      ]
    },
    {
      "cell_type": "code",
      "execution_count": null,
      "metadata": {
        "colab": {
          "base_uri": "https://localhost:8080/"
        },
        "id": "ygGvC6fd2hfO",
        "outputId": "59cd2334-a475-4cb1-f3cf-505e3edfafad"
      },
      "outputs": [
        {
          "output_type": "stream",
          "name": "stdout",
          "text": [
            "Model: \"model\"\n",
            "_________________________________________________________________\n",
            " Layer (type)                Output Shape              Param #   \n",
            "=================================================================\n",
            " input_1 (InputLayer)        [(None, 20, 1)]           0         \n",
            "                                                                 \n",
            " lstm (LSTM)                 (None, 20, 30)            3840      \n",
            "                                                                 \n",
            " lstm_1 (LSTM)               (None, 20, 70)            28280     \n",
            "                                                                 \n",
            " lstm_2 (LSTM)               (None, 30)                12120     \n",
            "                                                                 \n",
            " dense (Dense)               (None, 2)                 62        \n",
            "                                                                 \n",
            "=================================================================\n",
            "Total params: 44,302\n",
            "Trainable params: 44,302\n",
            "Non-trainable params: 0\n",
            "_________________________________________________________________\n",
            "None\n"
          ]
        }
      ],
      "source": [
        "model=Model(inp,out)\n",
        "print(model.summary())\n",
        "model.compile(optimizer=\"Adam\", loss='categorical_crossentropy', metrics=['accuracy'])"
      ]
    },
    {
      "cell_type": "code",
      "execution_count": null,
      "metadata": {
        "id": "-IvcxQmG2i2N"
      },
      "outputs": [],
      "source": [
        "model.fit(x_train, y_train, batch_size=50, epochs=50, verbose=1, validation_data=(x_test,y_test)) "
      ]
    },
    {
      "cell_type": "code",
      "source": [
        "model.save_weights('./weights')"
      ],
      "metadata": {
        "id": "ho0nnS21e-n6"
      },
      "execution_count": null,
      "outputs": []
    }
  ],
  "metadata": {
    "colab": {
      "collapsed_sections": [],
      "name": "LSTMClassifier_IndianNames.ipynb",
      "provenance": []
    },
    "gpuClass": "standard",
    "instance_type": "ml.t3.medium",
    "kernelspec": {
      "display_name": "Python 3",
      "name": "python3"
    },
    "language_info": {
      "name": "python"
    }
  },
  "nbformat": 4,
  "nbformat_minor": 0
}